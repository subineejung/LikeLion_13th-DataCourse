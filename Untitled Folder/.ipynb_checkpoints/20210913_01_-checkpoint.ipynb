{
 "cells": [
  {
   "cell_type": "code",
   "execution_count": 1,
   "id": "1681d9c8",
   "metadata": {},
   "outputs": [
    {
     "ename": "NameError",
     "evalue": "name 'css' is not defined",
     "output_type": "error",
     "traceback": [
      "\u001b[1;31m---------------------------------------------------------------------------\u001b[0m",
      "\u001b[1;31mNameError\u001b[0m                                 Traceback (most recent call last)",
      "\u001b[1;32m<ipython-input-1-5dd30ab42872>\u001b[0m in \u001b[0;36m<module>\u001b[1;34m\u001b[0m\n\u001b[1;32m----> 1\u001b[1;33m \u001b[0mcss\u001b[0m\u001b[1;33m\u001b[0m\u001b[1;33m\u001b[0m\u001b[0m\n\u001b[0m",
      "\u001b[1;31mNameError\u001b[0m: name 'css' is not defined"
     ]
    }
   ],
   "source": [
    "css\n",
    "css 넣는 3가지 방법\n",
    "1 inline\n",
    "2 internal\n",
    "3 external"
   ]
  },
  {
   "cell_type": "code",
   "execution_count": null,
   "id": "81eda7fb",
   "metadata": {},
   "outputs": [],
   "source": [
    "ln [ ] : \n",
    "* CSS 넣는 3가지 방법\n",
    " * inline \n",
    " * internal\n",
    " * external"
   ]
  },
  {
   "cell_type": "code",
   "execution_count": null,
   "id": "a9acea24",
   "metadata": {},
   "outputs": [],
   "source": [
    "inline\n",
    " <a style=\"\"</a>\n",
    "internal\n",
    " <style> __ </stlye>"
   ]
  },
  {
   "cell_type": "code",
   "execution_count": null,
   "id": "a209b868",
   "metadata": {},
   "outputs": [],
   "source": [
    "css selector\n",
    "* id => #id\n",
    "* html tag => tag명\n",
    "* class => .class명\n",
    "\n",
    "* text-align:center, #left, right, center"
   ]
  },
  {
   "cell_type": "code",
   "execution_count": null,
   "id": "f7d9c1a6",
   "metadata": {},
   "outputs": [],
   "source": [
    "* 외부 연결\n",
    " * <link ref =\"stylesheet\" href=\".css\""
   ]
  },
  {
   "cell_type": "code",
   "execution_count": null,
   "id": "88cabd81",
   "metadata": {},
   "outputs": [],
   "source": [
    "...\n",
    "h1.p {\n",
    "    color: red;\n",
    "}\n",
    "...\n",
    "h1과 p를 선택해서 스타일 적용시키라는 의미"
   ]
  },
  {
   "cell_type": "code",
   "execution_count": null,
   "id": "3183551a",
   "metadata": {},
   "outputs": [],
   "source": [
    "...\n",
    "h1 p {\n",
    "    color: red;\n",
    "}\n",
    "...\n",
    "h1태그에 속하는 p태그에 스타일 적용"
   ]
  },
  {
   "cell_type": "code",
   "execution_count": null,
   "id": "5e0e8854",
   "metadata": {},
   "outputs": [],
   "source": [
    "* css의 파일 내용\n",
    " * html파일의 style태그의 내용을 css파일로 만들어준다"
   ]
  },
  {
   "cell_type": "code",
   "execution_count": null,
   "id": "ef019d70",
   "metadata": {},
   "outputs": [],
   "source": [
    "<button type=\"button\"\n",
    "onclick=\"document.getElementById('p_date').innerHTML = Date()\">\n",
    "Click me to display Date and Time.</button>\n",
    "<p id=\"p_date\"></p>\n",
    "\n",
    "클릭하면 document의 p_date에 있는 것을 date()에 적용...?"
   ]
  },
  {
   "cell_type": "code",
   "execution_count": null,
   "id": "a2276a0a",
   "metadata": {},
   "outputs": [],
   "source": [
    ">>> BS4"
   ]
  },
  {
   "cell_type": "code",
   "execution_count": null,
   "id": "7c62e7b8",
   "metadata": {},
   "outputs": [],
   "source": [
    "* urlopen함수\n",
    " * urlopen(url) : 해당 웹서버에 요청하여 html 소스코드 얻기"
   ]
  },
  {
   "cell_type": "code",
   "execution_count": null,
   "id": "93aaaf2e",
   "metadata": {},
   "outputs": [],
   "source": [
    "* BeautifulSoup\n",
    " * 데이터를 수집할 목적으로 사용\n",
    " * 파이썬 라이브러리\n",
    " * html을 파싱하여 beautifulsoup자료형 구조로 만든다.\n",
    "    * 정보를 쉽게 가져오기 위해"
   ]
  },
  {
   "cell_type": "code",
   "execution_count": null,
   "id": "b8a84d26",
   "metadata": {},
   "outputs": [],
   "source": [
    "soup = BeautifulSoup(html,'')"
   ]
  },
  {
   "cell_type": "code",
   "execution_count": null,
   "id": "0233cc01",
   "metadata": {},
   "outputs": [],
   "source": [
    "soup.find(tag명)\n",
    "soup.find(tag명, id=\"\")\n",
    "soup.find(tag, class_=\"\")\n",
    "\n"
   ]
  },
  {
   "cell_type": "code",
   "execution_count": null,
   "id": "9a76af68",
   "metadata": {},
   "outputs": [],
   "source": [
    "children\n",
    " * [태그명].children\n",
    "    태그명 하위의 요소를 리스트 형태로 가져온다"
   ]
  },
  {
   "cell_type": "code",
   "execution_count": null,
   "id": "e326ab16",
   "metadata": {},
   "outputs": [],
   "source": [
    "from bs4 import BeautifulSoup"
   ]
  },
  {
   "cell_type": "code",
   "execution_count": null,
   "id": "e7e26b8c",
   "metadata": {},
   "outputs": [],
   "source": [
    "a = soup.find_all(\"a\")"
   ]
  },
  {
   "cell_type": "code",
   "execution_count": null,
   "id": "fca9ec06",
   "metadata": {},
   "outputs": [],
   "source": [
    "for one in a:\n",
    "    print(one['href'])"
   ]
  },
  {
   "cell_type": "code",
   "execution_count": null,
   "id": "829fb7ea",
   "metadata": {},
   "outputs": [],
   "source": [
    "Selenium"
   ]
  },
  {
   "cell_type": "code",
   "execution_count": null,
   "id": "43ce38f4",
   "metadata": {},
   "outputs": [],
   "source": [
    "* 라이브러리 설치  pip install selenium"
   ]
  },
  {
   "cell_type": "code",
   "execution_count": null,
   "id": "7f60c7f7",
   "metadata": {},
   "outputs": [],
   "source": []
  },
  {
   "cell_type": "code",
   "execution_count": 2,
   "id": "50cced7f",
   "metadata": {},
   "outputs": [],
   "source": [
    "from selenium import webdriver\n",
    "from bs4 import BeautifulSoup"
   ]
  },
  {
   "cell_type": "code",
   "execution_count": 9,
   "id": "a651e4ec",
   "metadata": {},
   "outputs": [],
   "source": [
    "driver = webdriver.Chrome('chromedriver') #90버전 활용"
   ]
  },
  {
   "cell_type": "code",
   "execution_count": 10,
   "id": "0ba62a72",
   "metadata": {},
   "outputs": [],
   "source": [
    "### 웹 페이지 접속\n",
    "url = \"https://www.naver.com/\"\n",
    "driver.get(url)"
   ]
  },
  {
   "cell_type": "code",
   "execution_count": 11,
   "id": "793d47ec",
   "metadata": {},
   "outputs": [
    {
     "data": {
      "text/plain": [
       "<title>NAVER</title>"
      ]
     },
     "execution_count": 11,
     "metadata": {},
     "output_type": "execute_result"
    }
   ],
   "source": [
    "### 웹 페이지로부터 html source코드를 넘겨받을 수 있다\n",
    "page = driver.page_source\n",
    "soup = BeautifulSoup(page, 'lxml')\n",
    "soup.title"
   ]
  },
  {
   "cell_type": "code",
   "execution_count": null,
   "id": "c7efa04a",
   "metadata": {},
   "outputs": [],
   "source": [
    "### driver가 가지고 있는 웹 요소를 선택해서 가져올 수 있다.\n",
    "### xpath : 웹페이지의 유일한 주소"
   ]
  },
  {
   "cell_type": "code",
   "execution_count": null,
   "id": "e6293ea4",
   "metadata": {},
   "outputs": [],
   "source": [
    "### 검색 : \n",
    "### 버튼 : "
   ]
  },
  {
   "cell_type": "code",
   "execution_count": null,
   "id": "679b9fc0",
   "metadata": {},
   "outputs": [],
   "source": [
    "## 검색과 버튼을 선택\n",
    "sel_search = driver.find_element_by_xpath('')\n",
    "sel_btn = driver.find_element_by_xpath('')"
   ]
  },
  {
   "cell_type": "code",
   "execution_count": null,
   "id": "4a04dd56",
   "metadata": {},
   "outputs": [],
   "source": []
  },
  {
   "cell_type": "code",
   "execution_count": null,
   "id": "dbe7ee5a",
   "metadata": {},
   "outputs": [],
   "source": [
    "sel_search"
   ]
  },
  {
   "cell_type": "code",
   "execution_count": null,
   "id": "8f6e7503",
   "metadata": {},
   "outputs": [],
   "source": [
    "sel_search.text"
   ]
  },
  {
   "cell_type": "code",
   "execution_count": null,
   "id": "a9c5c889",
   "metadata": {},
   "outputs": [],
   "source": [
    "sel_btn.text"
   ]
  },
  {
   "cell_type": "code",
   "execution_count": null,
   "id": "3b2c0602",
   "metadata": {},
   "outputs": [],
   "source": [
    "sel_search.send_keys(\"핫이슈\")\n",
    "sel_btn.click()"
   ]
  },
  {
   "cell_type": "code",
   "execution_count": null,
   "id": "ee66645a",
   "metadata": {},
   "outputs": [],
   "source": []
  }
 ],
 "metadata": {
  "kernelspec": {
   "display_name": "Python 3",
   "language": "python",
   "name": "python3"
  },
  "language_info": {
   "codemirror_mode": {
    "name": "ipython",
    "version": 3
   },
   "file_extension": ".py",
   "mimetype": "text/x-python",
   "name": "python",
   "nbconvert_exporter": "python",
   "pygments_lexer": "ipython3",
   "version": "3.8.8"
  }
 },
 "nbformat": 4,
 "nbformat_minor": 5
}
