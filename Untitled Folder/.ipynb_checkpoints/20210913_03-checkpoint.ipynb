{
 "cells": [
  {
   "cell_type": "code",
   "execution_count": 2,
   "id": "832f4443",
   "metadata": {},
   "outputs": [],
   "source": [
    "### 셀레늄 실습\n",
    "from selenium import webdriver\n",
    "from bs4 import BeautifulSoup"
   ]
  },
  {
   "cell_type": "code",
   "execution_count": 10,
   "id": "d6ee8d61",
   "metadata": {},
   "outputs": [
    {
     "data": {
      "text/plain": [
       "'C:\\\\Users\\\\Subin Jung\\\\Documents\\\\GitHub\\\\LikeLion_13th-DataCourse\\\\Untitled Folder'"
      ]
     },
     "execution_count": 10,
     "metadata": {},
     "output_type": "execute_result"
    }
   ],
   "source": [
    "import os\n",
    "os.getcwd()"
   ]
  },
  {
   "cell_type": "code",
   "execution_count": 3,
   "id": "14848624",
   "metadata": {},
   "outputs": [],
   "source": [
    "import time\n",
    "\n",
    "url = \"https://pythonstart.github.io/web/\"\n",
    "start = time.time()\n",
    "driver = webdriver.Chrome('./chromedriver')\n",
    "driver.get(url)"
   ]
  },
  {
   "cell_type": "code",
   "execution_count": 4,
   "id": "735c4edc",
   "metadata": {},
   "outputs": [
    {
     "data": {
      "text/plain": [
       "[<selenium.webdriver.remote.webelement.WebElement (session=\"c419bea389ef678bd57f81ac4a57a1bd\", element=\"72133c5a-f26b-462d-9e9c-958214217879\")>,\n",
       " <selenium.webdriver.remote.webelement.WebElement (session=\"c419bea389ef678bd57f81ac4a57a1bd\", element=\"69bbad0b-5375-448c-bbf9-7ed9c9679149\")>,\n",
       " <selenium.webdriver.remote.webelement.WebElement (session=\"c419bea389ef678bd57f81ac4a57a1bd\", element=\"2b9bb13d-74a1-4ded-8981-ed4846e54da4\")>,\n",
       " <selenium.webdriver.remote.webelement.WebElement (session=\"c419bea389ef678bd57f81ac4a57a1bd\", element=\"bca2cbd8-eb7c-4450-ad94-eebef5bd4722\")>,\n",
       " <selenium.webdriver.remote.webelement.WebElement (session=\"c419bea389ef678bd57f81ac4a57a1bd\", element=\"016d3c82-b0e5-4456-a54c-91514615a659\")>,\n",
       " <selenium.webdriver.remote.webelement.WebElement (session=\"c419bea389ef678bd57f81ac4a57a1bd\", element=\"91f300e4-bac0-4991-9138-af5984a1431f\")>,\n",
       " <selenium.webdriver.remote.webelement.WebElement (session=\"c419bea389ef678bd57f81ac4a57a1bd\", element=\"35027fe0-438a-4c36-bf1e-683ffa156e69\")>,\n",
       " <selenium.webdriver.remote.webelement.WebElement (session=\"c419bea389ef678bd57f81ac4a57a1bd\", element=\"90498b21-ac8a-4693-955d-9783800b9b43\")>,\n",
       " <selenium.webdriver.remote.webelement.WebElement (session=\"c419bea389ef678bd57f81ac4a57a1bd\", element=\"9b483b9f-d048-4458-9ec0-ca0a8720f1eb\")>,\n",
       " <selenium.webdriver.remote.webelement.WebElement (session=\"c419bea389ef678bd57f81ac4a57a1bd\", element=\"ff6d7b30-2a88-4f7a-885d-104103fc30a0\")>]"
      ]
     },
     "execution_count": 4,
     "metadata": {},
     "output_type": "execute_result"
    }
   ],
   "source": [
    "a_tag = driver.find_elements_by_css_selector(\"ul a\")\n",
    "a_tag"
   ]
  },
  {
   "cell_type": "code",
   "execution_count": 5,
   "id": "f67b5fa9",
   "metadata": {},
   "outputs": [
    {
     "data": {
      "text/plain": [
       "'01. 제목 가져오기(title)'"
      ]
     },
     "execution_count": 5,
     "metadata": {},
     "output_type": "execute_result"
    }
   ],
   "source": [
    "a_tag = driver.find_element_by_css_selector(\"ul a\")\n",
    "a_tag.text"
   ]
  },
  {
   "cell_type": "code",
   "execution_count": 6,
   "id": "5bc4552f",
   "metadata": {},
   "outputs": [
    {
     "data": {
      "text/plain": [
       "'my web page'"
      ]
     },
     "execution_count": 6,
     "metadata": {},
     "output_type": "execute_result"
    }
   ],
   "source": [
    "# body 밑에 h1 선택\n",
    "a_tag = driver.find_element_by_css_selector(\"body h1\")\n",
    "a_tag.text"
   ]
  },
  {
   "cell_type": "code",
   "execution_count": 7,
   "id": "269c26f1",
   "metadata": {},
   "outputs": [
    {
     "data": {
      "text/plain": [
       "'10. 랭킹 정보 가져오기(웹 크롤링)'"
      ]
     },
     "execution_count": 7,
     "metadata": {},
     "output_type": "execute_result"
    }
   ],
   "source": [
    "# a태그(id = 'rank' 선택)\n",
    "a_tag = driver.find_element_by_css_selector(\"a#rank\")\n",
    "a_tag.text"
   ]
  },
  {
   "cell_type": "code",
   "execution_count": null,
   "id": "baa37013",
   "metadata": {},
   "outputs": [],
   "source": [
    "# a태그(id = 'rank' 선택)\n",
    "a_tag = driver.find_element_by_css_selector(\"body ul a#rank\")\n",
    "a_tag.text"
   ]
  },
  {
   "cell_type": "code",
   "execution_count": 8,
   "id": "27232cd4",
   "metadata": {},
   "outputs": [
    {
     "data": {
      "text/plain": [
       "'my web page'"
      ]
     },
     "execution_count": 8,
     "metadata": {},
     "output_type": "execute_result"
    }
   ],
   "source": [
    "# h1 요소 선택\n",
    "a_tag = driver.find_element_by_css_selector(\"h1\")\n",
    "a_tag.text"
   ]
  },
  {
   "cell_type": "code",
   "execution_count": 9,
   "id": "600b0211",
   "metadata": {},
   "outputs": [
    {
     "data": {
      "text/plain": [
       "<selenium.webdriver.remote.webelement.WebElement (session=\"c419bea389ef678bd57f81ac4a57a1bd\", element=\"72133c5a-f26b-462d-9e9c-958214217879\")>"
      ]
     },
     "execution_count": 9,
     "metadata": {},
     "output_type": "execute_result"
    }
   ],
   "source": [
    "# a태그 전체 선택\n",
    "a_tag = driver.find_element_by_css_selector(\"a\")\n",
    "a_tag"
   ]
  },
  {
   "cell_type": "code",
   "execution_count": null,
   "id": "10013729",
   "metadata": {},
   "outputs": [],
   "source": [
    "### 주어진 페이지 구조화\n",
    "soup.BeautifulSoup(driver.page_source, 'lxml')\n",
    "soup.title"
   ]
  },
  {
   "cell_type": "code",
   "execution_count": null,
   "id": "44d0a886",
   "metadata": {
    "collapsed": true
   },
   "outputs": [],
   "source": [
    "soup.select('ul')"
   ]
  },
  {
   "cell_type": "code",
   "execution_count": null,
   "id": "d99aa9e9",
   "metadata": {},
   "outputs": [],
   "source": [
    "soup.select(\"#rank\")"
   ]
  },
  {
   "cell_type": "code",
   "execution_count": null,
   "id": "ab8ded39",
   "metadata": {},
   "outputs": [],
   "source": [
    "driver.get(\"https://pythonstart.github.io/web/07.html\")"
   ]
  },
  {
   "cell_type": "code",
   "execution_count": null,
   "id": "b88c5cbb",
   "metadata": {},
   "outputs": [],
   "source": []
  }
 ],
 "metadata": {
  "kernelspec": {
   "display_name": "Python 3",
   "language": "python",
   "name": "python3"
  },
  "language_info": {
   "codemirror_mode": {
    "name": "ipython",
    "version": 3
   },
   "file_extension": ".py",
   "mimetype": "text/x-python",
   "name": "python",
   "nbconvert_exporter": "python",
   "pygments_lexer": "ipython3",
   "version": "3.8.8"
  }
 },
 "nbformat": 4,
 "nbformat_minor": 5
}
