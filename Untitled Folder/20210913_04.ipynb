{
 "cells": [
  {
   "cell_type": "code",
   "execution_count": null,
   "id": "c38aa605",
   "metadata": {},
   "outputs": [],
   "source": [
    "## 네이버 데이터랩에서 데이터 가져오기"
   ]
  },
  {
   "cell_type": "code",
   "execution_count": 1,
   "id": "8eea0141",
   "metadata": {},
   "outputs": [
    {
     "name": "stdout",
     "output_type": "stream",
     "text": [
      "시트명을 입력해주세요패션의류_0913\n"
     ]
    }
   ],
   "source": [
    "filename = \"datalab_word.xlsx\"\n",
    "# 해당 시트명 입력\n",
    "sheetname = input(\"시트명을 입력해주세요: \")"
   ]
  },
  {
   "cell_type": "code",
   "execution_count": 2,
   "id": "d20055d5",
   "metadata": {},
   "outputs": [],
   "source": [
    "from selenium import webdriver\n",
    "from bs4 import BeautifulSoup\n",
    "\n",
    "driver = webdriver.Chrome('./chromedriver')"
   ]
  },
  {
   "cell_type": "code",
   "execution_count": 3,
   "id": "743022b4",
   "metadata": {},
   "outputs": [],
   "source": [
    "url = \"https://datalab.naver.com/\"\n",
    "driver.get(url)"
   ]
  },
  {
   "cell_type": "code",
   "execution_count": 6,
   "id": "e5743de7",
   "metadata": {},
   "outputs": [
    {
     "data": {
      "text/plain": [
       "<title>네이버 데이터랩</title>"
      ]
     },
     "execution_count": 6,
     "metadata": {},
     "output_type": "execute_result"
    }
   ],
   "source": [
    "### 날짜 가져오기\n",
    "# 각 날짜의 xpath or bs4를 이용해 가져온다\n",
    "# 이 요소 선택 후 가져와 해당 부분의 text확인\n",
    "\n",
    "soup = BeautifulSoup(driver.page_source,'lxml')\n",
    "soup.title"
   ]
  },
  {
   "cell_type": "code",
   "execution_count": 7,
   "id": "4aaab028",
   "metadata": {},
   "outputs": [
    {
     "data": {
      "text/plain": [
       "<span class=\"title_cell\">\n",
       "<span class=\"datetime\">{=datetime}</span>\n",
       "<span class=\"period\"><em>{=range}</em></span>\n",
       "</span>"
      ]
     },
     "execution_count": 7,
     "metadata": {},
     "output_type": "execute_result"
    }
   ],
   "source": [
    "date_all = soup.find_all(\"span\", class_=\"title_cell\")\n",
    "date_all[13]"
   ]
  },
  {
   "cell_type": "code",
   "execution_count": 8,
   "id": "7fb603d8",
   "metadata": {},
   "outputs": [
    {
     "name": "stdout",
     "output_type": "stream",
     "text": [
      "14\n"
     ]
    }
   ],
   "source": [
    "# 총 데이터 갯수\n",
    "print(len(date_all))"
   ]
  },
  {
   "cell_type": "code",
   "execution_count": 9,
   "id": "4aada42b",
   "metadata": {},
   "outputs": [
    {
     "name": "stdout",
     "output_type": "stream",
     "text": [
      "2021.09.01.(수)\n",
      "2021.09.02.(목)\n",
      "2021.09.03.(금)\n",
      "2021.09.04.(토)\n",
      "2021.09.05.(일)\n",
      "2021.09.06.(월)\n",
      "2021.09.07.(화)\n",
      "2021.09.08.(수)\n",
      "2021.09.09.(목)\n",
      "2021.09.10.(금)\n",
      "2021.09.11.(토)\n",
      "2021.09.12.(일)\n"
     ]
    }
   ],
   "source": [
    "# 날짜 가져오기\n",
    "date_all = soup.find_all('span', class_=\"title_cell\")\n",
    "# print(len(date_all))\n",
    "\n",
    "date_list = []\n",
    "for one in date_all:\n",
    "    if len(one.text):\n",
    "        date_list.append(one.text)\n",
    "        print(one.text)"
   ]
  },
  {
   "cell_type": "code",
   "execution_count": 13,
   "id": "f3434bb7",
   "metadata": {},
   "outputs": [
    {
     "data": {
      "text/plain": [
       "<selenium.webdriver.remote.webelement.WebElement (session=\"c364d756bbb7a474f552e2aaaa3303aa\", element=\"900529c5-e826-44d6-a93f-72a0638dd917\")>"
      ]
     },
     "execution_count": 13,
     "metadata": {},
     "output_type": "execute_result"
    }
   ],
   "source": [
    "# xpath: //*[@id=\"content\"]/div[1]/div[4]/div/div[1]/div/div/div[12]/div/div/ul/li[1]/a/span\n",
    "xpath = '//*[@id=\"content\"]/div[1]/div[4]/div/div[1]/div/div/div[12]/div/div/ul/li[1]/a/span'\n",
    "one_ele = driver.find_element_by_xpath(xpath)\n",
    "one_ele"
   ]
  },
  {
   "cell_type": "code",
   "execution_count": 14,
   "id": "26bc7748",
   "metadata": {},
   "outputs": [
    {
     "data": {
      "text/plain": [
       "'원피스'"
      ]
     },
     "execution_count": 14,
     "metadata": {},
     "output_type": "execute_result"
    }
   ],
   "source": [
    "one_ele.text"
   ]
  },
  {
   "cell_type": "raw",
   "id": "ce5609b4",
   "metadata": {},
   "source": [
    "## 9월 9일\n",
    "# 검색어 1 : //*[@id=\"content\"]/div[1]/div[4]/div/div[1]/div/div/div[9]/div/div/ul/li[1]/a/span\n",
    "# 검색어 3 : //*[@id=\"content\"]/div[1]/div[4]/div/div[1]/div/div/div[9]/div/div/ul/li[3]/a/span\n",
    "# 검색어 7 : //*[@id=\"content\"]/div[1]/div[4]/div/div[1]/div/div/div[9]/div/div/ul/li[7]/a/span\n",
    "# 검색어 10 : //*[@id=\"content\"]/div[1]/div[4]/div/div[1]/div/div/div[9]/div/div/ul/li[10]/a/span\n",
    "\n",
    "## 9월 12일\n",
    "//*[@id=\"content\"]/div[1]/div[4]/div/div[1]/div/div/div[12]/div/div/ul/li[1]/a/span\n",
    "//*[@id=\"content\"]/div[1]/div[4]/div/div[1]/div/div/div[12]/div/div/ul/li[3]/a/span\n"
   ]
  },
  {
   "cell_type": "code",
   "execution_count": 21,
   "id": "aa8bf9c8",
   "metadata": {},
   "outputs": [
    {
     "data": {
      "text/plain": [
       "['원피스',\n",
       " '가을원피스',\n",
       " '나이키바람막이',\n",
       " '트위드자켓',\n",
       " '나이키후드티',\n",
       " '후드집업',\n",
       " '바람막이',\n",
       " '반팔티',\n",
       " '반바지',\n",
       " '써스데이아일랜드원피스']"
      ]
     },
     "execution_count": 21,
     "metadata": {},
     "output_type": "execute_result"
    }
   ],
   "source": [
    "pop_word = []\n",
    "for num in range(1,11,1):\n",
    "    xpath_url = '//*[@id=\"content\"]/div[1]/div[4]/div/div[1]/div/div/div[9]/div/div/ul/li[' + str(num) + ']/a/span'\n",
    "    one_ele = driver.find_element_by_xpath(xpath_url)\n",
    "    # print(one_ele.text)\n",
    "    pop_word.append(one_ele.text)\n",
    "pop_word"
   ]
  },
  {
   "cell_type": "code",
   "execution_count": 30,
   "id": "5a61ba89",
   "metadata": {},
   "outputs": [
    {
     "name": "stdout",
     "output_type": "stream",
     "text": [
      "['원피스', '가을원피스', '나이키바람막이', '트위드자켓', '나이키후드티', '후드집업', '바람막이', '반팔티', '반바지', '써스데이아일랜드원피스']\n",
      "['원피스', '가을원피스', '트위드자켓', '나이키바람막이', '나이키후드티', '써스데이아일랜드원피스', '반팔티', '반바지', '팬츠', '바람막이']\n",
      "['원피스', '나이키후드티', '트위드자켓', '나이키바람막이', '가을원피스', '써스데이아일랜드원피스', '반팔티', '맨투맨', '후드집업', '반바지']\n",
      "['원피스', '나이키후드티', '써스데이아일랜드원피스', '가을원피스', '트위드자켓', '나이키바람막이', '바람막이', '후드집업', '맨투맨', '블라우스']\n"
     ]
    }
   ],
   "source": [
    "page_start = 9\n",
    "page_end = 12\n",
    "for page in range(page_start, page_end+1, 1):\n",
    "    pop_word = []\n",
    "    for num in range(1,11,1):\n",
    "        xpath_url = '//*[@id=\"content\"]/div[1]/div[4]/div/div[1]/div/div/div[' + str(page)+ ']/div/div/ul/li[' + str(num) + ']/a/span'\n",
    "        one_ele = driver.find_element_by_xpath(xpath_url)\n",
    "        # print(one_ele.text)\n",
    "        pop_word.append(one_ele.text)\n",
    "    print(pop_word)"
   ]
  },
  {
   "cell_type": "code",
   "execution_count": null,
   "id": "431d8f9e",
   "metadata": {},
   "outputs": [],
   "source": []
  }
 ],
 "metadata": {
  "kernelspec": {
   "display_name": "Python 3",
   "language": "python",
   "name": "python3"
  },
  "language_info": {
   "codemirror_mode": {
    "name": "ipython",
    "version": 3
   },
   "file_extension": ".py",
   "mimetype": "text/x-python",
   "name": "python",
   "nbconvert_exporter": "python",
   "pygments_lexer": "ipython3",
   "version": "3.8.8"
  }
 },
 "nbformat": 4,
 "nbformat_minor": 5
}
