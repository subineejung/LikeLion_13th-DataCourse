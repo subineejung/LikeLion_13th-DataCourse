{
 "cells": [
  {
   "cell_type": "code",
   "execution_count": null,
   "id": "c6b54079",
   "metadata": {},
   "outputs": [],
   "source": [
    "### jupiter 단축키\n",
    "ESC + X : 셀삭제\n",
    "ESC + A : 위에 셀 추가\n",
    "ESC + B : 아래 셀 추가\n",
    "ESC + M : 설명\n",
    "ESC + Y : 코드입력\n",
    "ESC + L : 번호\n",
    "SHIFT + ENTER : 현재 셀을 실행하고 다음 셀로 내려가기\n",
    "CTRL + ENTER : 현재 셀을 실행하고 현재 위치 머무르기"
   ]
  },
  {
   "cell_type": "code",
   "execution_count": null,
   "id": "e0cf64d8",
   "metadata": {},
   "outputs": [],
   "source": [
    "### BeautifulSoup\n",
    "lxml\n",
    "html5lib\n",
    "html parser"
   ]
  },
  {
   "cell_type": "code",
   "execution_count": null,
   "id": "a95d1b70",
   "metadata": {},
   "outputs": [],
   "source": [
    "### 하나의 요소, 여러개의 요소 가져오기\n",
    "soup.find(), soup.find_all()\n",
    "\n",
    "pclass가져오기\n",
    "soup.find(\"p\")\n",
    "\n",
    "pclass에서 두번째 요소만 가져오고 싶다\n",
    "soup.find_all('p')[1]\n",
    "\n",
    "# <p id='p1'>오늘의 주가지수 1500</p>가져오기\n",
    "souop.find('p', id=\"p1\")\n",
    "\n",
    "\n",
    "\n",
    "\n"
   ]
  },
  {
   "cell_type": "code",
   "execution_count": 3,
   "id": "26a5ba91",
   "metadata": {},
   "outputs": [
    {
     "data": {
      "text/plain": [
       "<html>\n",
       "<head><title>나의 홈페이지</title>\n",
       "</head><body>\n",
       "안녕하세요\n",
       "<div>\n",
       "<a class=\"url\" href=\"https://www.naver.com/\">naver</a>\n",
       "<a class=\"url\" href=\"https://www.google.com/\">google</a>\n",
       "<p> 내가 가장 좋아하는 동물은 강아지입니다.</p>\n",
       "<p> 나는 그리고 네이버 홈페이지에 자주 갑니다.</p>\n",
       "<p class=\"p3\"> 강아지 사진과 네이버 링크 p3 그룹 1</p>\n",
       "<p class=\"p3\"> 강아지 사진과 네이버 링크 p3 그룹 2</p>\n",
       "<p id=\"p4_only\"> 강아지 사진과 네이버 ID p4 </p>\n",
       "<pre>\n",
       " 내가 가장 좋아하는 동물은 강아지입니다.\n",
       " 나는 그리고 네이버 홈페이지에 자주 갑니다.\n",
       " </pre>\n",
       "</div>\n",
       "<div>\n",
       "<p class=\"p3\"> 강아지 사진과 네이버 링크 p3 그룹 3</p>\n",
       "<p class=\"p3\"> 강아지 사진과 네이버 링크 p3 그룹 4</p>\n",
       "<p id=\"p5_only\"> 강아지 사진과 네이버 ID p4 </p>\n",
       "</div>\n",
       "</body>\n",
       "</html>"
      ]
     },
     "execution_count": 3,
     "metadata": {},
     "output_type": "execute_result"
    }
   ],
   "source": [
    "from bs4 import BeautifulSoup\n",
    "\n",
    "html = '''\n",
    "<html>\n",
    "<head><title>나의 홈페이지</title>\n",
    "</head><body>\n",
    "안녕하세요\n",
    "<div>\n",
    "<a class='url' href=\"https://www.naver.com/\">naver</a>\n",
    "<a class='url' href=\"https://www.google.com/\">google</a>\n",
    "<p> 내가 가장 좋아하는 동물은 강아지입니다.</p>\n",
    "<p> 나는 그리고 네이버 홈페이지에 자주 갑니다.</p>\n",
    "<p class=\"p3\"> 강아지 사진과 네이버 링크 p3 그룹 1</p>\n",
    "<p class=\"p3\"> 강아지 사진과 네이버 링크 p3 그룹 2</p>\n",
    "<p id=\"p4_only\"> 강아지 사진과 네이버 ID p4 </p>\n",
    "<pre>\n",
    " 내가 가장 좋아하는 동물은 강아지입니다.\n",
    " 나는 그리고 네이버 홈페이지에 자주 갑니다.\n",
    " </pre>\n",
    "</div>\n",
    "<div>\n",
    "<p class=\"p3\"> 강아지 사진과 네이버 링크 p3 그룹 3</p>\n",
    "<p class=\"p3\"> 강아지 사진과 네이버 링크 p3 그룹 4</p>\n",
    "<p id=\"p5_only\"> 강아지 사진과 네이버 ID p4 </p>\n",
    "</div>\n",
    "</body>\n",
    "</html>\n",
    "'''\n",
    "\n",
    "soup = BeautifulSoup(html, 'lxml')\n",
    "soup\n"
   ]
  },
  {
   "cell_type": "code",
   "execution_count": 4,
   "id": "fde42de4",
   "metadata": {},
   "outputs": [
    {
     "data": {
      "text/plain": [
       "'https://www.naver.com/'"
      ]
     },
     "execution_count": 4,
     "metadata": {},
     "output_type": "execute_result"
    }
   ],
   "source": [
    "soup.find('a', class_=\"url\")['href']"
   ]
  },
  {
   "cell_type": "code",
   "execution_count": 5,
   "id": "8e8d005d",
   "metadata": {},
   "outputs": [
    {
     "data": {
      "text/plain": [
       "[<a class=\"url\" href=\"https://www.naver.com/\">naver</a>,\n",
       " <a class=\"url\" href=\"https://www.google.com/\">google</a>]"
      ]
     },
     "execution_count": 5,
     "metadata": {},
     "output_type": "execute_result"
    }
   ],
   "source": [
    "soup.find_all('a', class_='url')"
   ]
  },
  {
   "cell_type": "code",
   "execution_count": 9,
   "id": "50921b70",
   "metadata": {},
   "outputs": [
    {
     "name": "stdout",
     "output_type": "stream",
     "text": [
      "https://www.naver.com/\n",
      "https://www.google.com/\n"
     ]
    }
   ],
   "source": [
    "a = soup.find_all('a', class_='url')\n",
    "\n",
    "for one in a:\n",
    "    print(one['href'])\n",
    "    "
   ]
  },
  {
   "cell_type": "code",
   "execution_count": 10,
   "id": "aaee246d",
   "metadata": {},
   "outputs": [
    {
     "data": {
      "text/plain": [
       "[<p class=\"p3\"> 강아지 사진과 네이버 링크 p3 그룹 3</p>,\n",
       " <p class=\"p3\"> 강아지 사진과 네이버 링크 p3 그룹 4</p>]"
      ]
     },
     "execution_count": 10,
     "metadata": {},
     "output_type": "execute_result"
    }
   ],
   "source": [
    "soup.find_all('p', class_='p3')[2:4]"
   ]
  },
  {
   "cell_type": "code",
   "execution_count": 20,
   "id": "f2674f0d",
   "metadata": {},
   "outputs": [],
   "source": [
    "a = list(soup.div.children)[5]"
   ]
  },
  {
   "cell_type": "code",
   "execution_count": 16,
   "id": "5f9f324a",
   "metadata": {},
   "outputs": [
    {
     "data": {
      "text/plain": [
       "['\\n',\n",
       " <a class=\"url\" href=\"https://www.naver.com/\">naver</a>,\n",
       " '\\n',\n",
       " <a class=\"url\" href=\"https://www.google.com/\">google</a>,\n",
       " '\\n',\n",
       " <p> 내가 가장 좋아하는 동물은 강아지입니다.</p>,\n",
       " '\\n',\n",
       " <p> 나는 그리고 네이버 홈페이지에 자주 갑니다.</p>,\n",
       " '\\n',\n",
       " <p class=\"p3\"> 강아지 사진과 네이버 링크 p3 그룹 1</p>,\n",
       " '\\n',\n",
       " <p class=\"p3\"> 강아지 사진과 네이버 링크 p3 그룹 2</p>,\n",
       " '\\n',\n",
       " <p id=\"p4_only\"> 강아지 사진과 네이버 ID p4 </p>,\n",
       " '\\n',\n",
       " <pre>\n",
       "  내가 가장 좋아하는 동물은 강아지입니다.\n",
       "  나는 그리고 네이버 홈페이지에 자주 갑니다.\n",
       "  </pre>,\n",
       " '\\n']"
      ]
     },
     "execution_count": 16,
     "metadata": {},
     "output_type": "execute_result"
    }
   ],
   "source": [
    "list(soup.div.children)"
   ]
  },
  {
   "cell_type": "code",
   "execution_count": null,
   "id": "840ddd57",
   "metadata": {},
   "outputs": [],
   "source": []
  }
 ],
 "metadata": {
  "kernelspec": {
   "display_name": "Python 3",
   "language": "python",
   "name": "python3"
  },
  "language_info": {
   "codemirror_mode": {
    "name": "ipython",
    "version": 3
   },
   "file_extension": ".py",
   "mimetype": "text/x-python",
   "name": "python",
   "nbconvert_exporter": "python",
   "pygments_lexer": "ipython3",
   "version": "3.8.8"
  }
 },
 "nbformat": 4,
 "nbformat_minor": 5
}
