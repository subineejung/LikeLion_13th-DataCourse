{
 "cells": [
  {
   "cell_type": "code",
   "execution_count": 2,
   "id": "19c940d3",
   "metadata": {},
   "outputs": [
    {
     "data": {
      "text/plain": [
       "<title> test site </title>"
      ]
     },
     "execution_count": 2,
     "metadata": {},
     "output_type": "execute_result"
    }
   ],
   "source": [
    "from bs4 import BeautifulSoup\n",
    "\n",
    "html = \"\"\"\n",
    "<html>\n",
    "<head><title> test site </title></head>\n",
    "<p class='class1' align=\"left\">test3</p>\n",
    "<p class='class1'>test2</p>\n",
    "<p id='p1'>오늘의 주가지수 1500</p>\n",
    "<span class='class3'>span tag text</span>\n",
    "<p class='class4'>test3</p>\n",
    "</html>\n",
    "\"\"\"\n",
    "\n",
    "soup = BeautifulSoup(html, 'lxml')\n",
    "soup.title"
   ]
  },
  {
   "cell_type": "code",
   "execution_count": 3,
   "id": "b980f77e",
   "metadata": {},
   "outputs": [
    {
     "name": "stdout",
     "output_type": "stream",
     "text": [
      "<html>\n",
      " <head>\n",
      "  <title>\n",
      "   test site\n",
      "  </title>\n",
      " </head>\n",
      " <body>\n",
      "  <p align=\"left\" class=\"class1\">\n",
      "   test3\n",
      "  </p>\n",
      "  <p class=\"class1\">\n",
      "   test2\n",
      "  </p>\n",
      "  <p id=\"p1\">\n",
      "   오늘의 주가지수 1500\n",
      "  </p>\n",
      "  <span class=\"class3\">\n",
      "   span tag text\n",
      "  </span>\n",
      "  <p class=\"class4\">\n",
      "   test3\n",
      "  </p>\n",
      " </body>\n",
      "</html>\n",
      "\n"
     ]
    }
   ],
   "source": [
    "print(soup.prettify())"
   ]
  },
  {
   "cell_type": "code",
   "execution_count": 4,
   "id": "68c27fed",
   "metadata": {},
   "outputs": [],
   "source": [
    "from urllib.request import urlopen\n",
    "from bs4 import BeautifulSoup\n",
    "\n",
    "# url = 'https://movie.naver.com/movie/point/af/list.nhn?st=mcode&sword=171725&target=after'\n",
    "basic_url = \"https://movie.naver.com/movie/point/af/list.nhn?st=mcode&sword=171725&target=after&page=\"\n",
    "# 2page \n",
    "# 3page"
   ]
  },
  {
   "cell_type": "code",
   "execution_count": 5,
   "id": "ffc44212",
   "metadata": {},
   "outputs": [
    {
     "data": {
      "text/plain": [
       "[<td class=\"title\">\n",
       " <a class=\"movie color_b\" href=\"/movie/bi/mi/basic.naver?code=171725\">스파이더맨: 뉴 유니버스</a>\n",
       " <div class=\"list_netizen_score\">\n",
       " <span class=\"st_off\"><span class=\"st_on\" style=\"width:100%\">별점 - 총 10점 중</span></span><em>10</em>\n",
       " </div>\n",
       " <br/>눈이 호강햇네요 액션 진짜 멋지고 ㅜㅜ \n",
       " \t\t\t\n",
       " \t\t\t\n",
       " \t\t\t\n",
       " \t\t\t\t\n",
       " \t\t\t\t\n",
       " \t\t\t\t\n",
       " \t\t\t\t<a class=\"report\" href=\"#\" onclick=\"report('lshb****', 'EwwpWrhpAvhtu7K1mOlAnzoz4Q4hcAlUTdvayS0fpvY=', '눈이 호강햇네요 액션 진짜 멋지고 ㅜㅜ', '17710325', 'point_after');\" style=\"color:#8F8F8F\" title=\"새 창\">신고</a>\n",
       " </td>,\n",
       " <td class=\"title\">\n",
       " <a class=\"movie color_b\" href=\"/movie/bi/mi/basic.naver?code=171725\">스파이더맨: 뉴 유니버스</a>\n",
       " <div class=\"list_netizen_score\">\n",
       " <span class=\"st_off\"><span class=\"st_on\" style=\"width:100%\">별점 - 총 10점 중</span></span><em>10</em>\n",
       " </div>\n",
       " <br/>나에게 힘을 주는 영화 나도 스파이더맨 마스크를 쓸 수 있다 ㅋㅋ \n",
       " \t\t\t\n",
       " \t\t\t\n",
       " \t\t\t\n",
       " \t\t\t\t\n",
       " \t\t\t\t\n",
       " \t\t\t\t\n",
       " \t\t\t\t<a class=\"report\" href=\"#\" onclick=\"report('wnck****', '81+esMwJr8T5hRBV5k/OPy3fNa3dkFeIJMM/NtJFInI=', '나에게 힘을 주는 영화 나도 스파이더맨 마스크를 쓸 수 있다 ㅋㅋ', '17709762', 'point_after');\" style=\"color:#8F8F8F\" title=\"새 창\">신고</a>\n",
       " </td>,\n",
       " <td class=\"title\">\n",
       " <a class=\"movie color_b\" href=\"/movie/bi/mi/basic.naver?code=171725\">스파이더맨: 뉴 유니버스</a>\n",
       " <div class=\"list_netizen_score\">\n",
       " <span class=\"st_off\"><span class=\"st_on\" style=\"width:100%\">별점 - 총 10점 중</span></span><em>10</em>\n",
       " </div>\n",
       " <br/>러닝타임이 꽤 긴데 전혀 지루하지 않다 재미와 감동을 모두 잡은 작품!! \n",
       " \t\t\t\n",
       " \t\t\t\n",
       " \t\t\t\n",
       " \t\t\t\t\n",
       " \t\t\t\t\n",
       " \t\t\t\t\n",
       " \t\t\t\t<a class=\"report\" href=\"#\" onclick=\"report('tjdm****', 'zmrDYzB/a9PaV/32BlSEWKa8IHnAV5RPips16Ufo3VE=', '러닝타임이 꽤 긴데 전혀 지루하지 않다 재미와 감동을 모두 잡은 작품!!', '17706023', 'point_after');\" style=\"color:#8F8F8F\" title=\"새 창\">신고</a>\n",
       " </td>,\n",
       " <td class=\"title\">\n",
       " <a class=\"movie color_b\" href=\"/movie/bi/mi/basic.naver?code=171725\">스파이더맨: 뉴 유니버스</a>\n",
       " <div class=\"list_netizen_score\">\n",
       " <span class=\"st_off\"><span class=\"st_on\" style=\"width:100%\">별점 - 총 10점 중</span></span><em>10</em>\n",
       " </div>\n",
       " <br/>이걸 왜 지금 봤을까.. \n",
       " \t\t\t\n",
       " \t\t\t\n",
       " \t\t\t\n",
       " \t\t\t\t\n",
       " \t\t\t\t\n",
       " \t\t\t\t\n",
       " \t\t\t\t<a class=\"report\" href=\"#\" onclick=\"report('wirl****', 'clZW7LbAuPjat97jGrm+UZvvz/wW65fnQnK5QK3Bl0A=', '이걸 왜 지금 봤을까..', '17688674', 'point_after');\" style=\"color:#8F8F8F\" title=\"새 창\">신고</a>\n",
       " </td>,\n",
       " <td class=\"title\">\n",
       " <a class=\"movie color_b\" href=\"/movie/bi/mi/basic.naver?code=171725\">스파이더맨: 뉴 유니버스</a>\n",
       " <div class=\"list_netizen_score\">\n",
       " <span class=\"st_off\"><span class=\"st_on\" style=\"width:90%\">별점 - 총 10점 중</span></span><em>9</em>\n",
       " </div>\n",
       " <br/>보는 내내 눈이 즐거웠던 교훈 주는 만화영화 \n",
       " \t\t\t\n",
       " \t\t\t\n",
       " \t\t\t\n",
       " \t\t\t\t\n",
       " \t\t\t\t\n",
       " \t\t\t\t\n",
       " \t\t\t\t<a class=\"report\" href=\"#\" onclick=\"report('dudx****', 'pkotaCisMRsq6SSy/tm0POnRy1UVD0NW2TutQm8/7sU=', '보는 내내 눈이 즐거웠던 교훈 주는 만화영화', '17686018', 'point_after');\" style=\"color:#8F8F8F\" title=\"새 창\">신고</a>\n",
       " </td>,\n",
       " <td class=\"title\">\n",
       " <a class=\"movie color_b\" href=\"/movie/bi/mi/basic.naver?code=171725\">스파이더맨: 뉴 유니버스</a>\n",
       " <div class=\"list_netizen_score\">\n",
       " <span class=\"st_off\"><span class=\"st_on\" style=\"width:100%\">별점 - 총 10점 중</span></span><em>10</em>\n",
       " </div>\n",
       " <br/>진짜 화려하고 쭉 몰입해서 본영화 \n",
       " \t\t\t\n",
       " \t\t\t\n",
       " \t\t\t\n",
       " \t\t\t\t\n",
       " \t\t\t\t\n",
       " \t\t\t\t\n",
       " \t\t\t\t<a class=\"report\" href=\"#\" onclick=\"report('jjhr****', '/PZScqtmg3bJXCvjoivcKFOESv1wZZiSShBW6ozqII0=', '진짜 화려하고 쭉 몰입해서 본영화', '17669969', 'point_after');\" style=\"color:#8F8F8F\" title=\"새 창\">신고</a>\n",
       " </td>,\n",
       " <td class=\"title\">\n",
       " <a class=\"movie color_b\" href=\"/movie/bi/mi/basic.naver?code=171725\">스파이더맨: 뉴 유니버스</a>\n",
       " <div class=\"list_netizen_score\">\n",
       " <span class=\"st_off\"><span class=\"st_on\" style=\"width:100%\">별점 - 총 10점 중</span></span><em>10</em>\n",
       " </div>\n",
       " <br/>애니메이션이라는 틀을 깨버리는 스탠 리의 자식들 \n",
       " \t\t\t\n",
       " \t\t\t\n",
       " \t\t\t\n",
       " \t\t\t\t\n",
       " \t\t\t\t\n",
       " \t\t\t\t\n",
       " \t\t\t\t<a class=\"report\" href=\"#\" onclick=\"report('pana****', 'S6mjoq4YTTx0wl0GuV7Bwi7NxibHI+iK9sTpcc5NAEo=', '애니메이션이라는 틀을 깨버리는 스탠 리의 자식들', '17654524', 'point_after');\" style=\"color:#8F8F8F\" title=\"새 창\">신고</a>\n",
       " </td>,\n",
       " <td class=\"title\">\n",
       " <a class=\"movie color_b\" href=\"/movie/bi/mi/basic.naver?code=171725\">스파이더맨: 뉴 유니버스</a>\n",
       " <div class=\"list_netizen_score\">\n",
       " <span class=\"st_off\"><span class=\"st_on\" style=\"width:80%\">별점 - 총 10점 중</span></span><em>8</em>\n",
       " </div>\n",
       " <br/>정말 재밌다는 소문만 듣다가 이제서야 봄. 만화적 연출을 위한 저 프레임 연출은 호불호가 좀 갈린부분 아닐까, 나또한 저 부분이 그렇게 와닿게 만화적이게 보이게 했는지는 모르겠다 그냥 부드럽게 보는게 더 보기 편하지 않았을까, 그 외에 만화적 표현들은 연출적으로 아주 훌륭했다. BGM : 중간 중간 깔리는 음악들은 아주 훌륭했다. 연출과 아주 찰떡궁합. 스토리는 좀 진부했다 아주 무난하고 평범한 히어로물 주인공의 위기와 성장 살짝 개연성이 아쉬운 부분이 있었으나 감안하고 보기엔 마무리 포장까지 완성도가 높았다. 개인적 총평은. 아주 재밌었던 영화라기 보단 아주 잘 만든 영화에 가까웠다. \n",
       " \t\t\t\n",
       " \t\t\t\n",
       " \t\t\t\n",
       " \t\t\t\t\n",
       " \t\t\t\t\n",
       " \t\t\t\t\n",
       " \t\t\t\t<a class=\"report\" href=\"#\" onclick=\"report('qork****', 'NjU4le5PxSVTwMYpSY0LpTBFCjukRXvHNyH/bSF90iU=', '정말 재밌다는 소문만 듣다가 이제서야 봄. 만화적 연출을 위한 저 프레임 연출은 호불호가 좀 갈린부분 아닐까, 나또한 저 부분이 그렇게 와닿게 만화적이게 보이게 했는지는 모르겠다 그냥 부드럽게 보는게 더 보기 편하지 않았을까, 그 외에 만화적 표현들은 연출적으로 아주 훌륭했다. BGM : 중간 중간 깔리는 음악들은 아주 훌륭했다. 연출과 아주 찰떡궁합. 스토리는 좀 진부했다 아주 무난하고 평범한 히어로물 주인공의 위기와 성장 살짝 개연성이 아쉬운 부분이 있었으나 감안하고 보기엔 마무리 포장까지 완성도가 높았다. 개인적 총평은. 아주 재밌었던 영화라기 보단 아주 잘 만든 영화에 가까웠다. ', '17629441', 'point_after');\" style=\"color:#8F8F8F\" title=\"새 창\">신고</a>\n",
       " </td>,\n",
       " <td class=\"title\">\n",
       " <a class=\"movie color_b\" href=\"/movie/bi/mi/basic.naver?code=171725\">스파이더맨: 뉴 유니버스</a>\n",
       " <div class=\"list_netizen_score\">\n",
       " <span class=\"st_off\"><span class=\"st_on\" style=\"width:100%\">별점 - 총 10점 중</span></span><em>10</em>\n",
       " </div>\n",
       " <br/>소니 최고의 애니메이션 \n",
       " \t\t\t\n",
       " \t\t\t\n",
       " \t\t\t\n",
       " \t\t\t\t\n",
       " \t\t\t\t\n",
       " \t\t\t\t\n",
       " \t\t\t\t<a class=\"report\" href=\"#\" onclick=\"report('chlt****', 'a689RBJWfR9iilTjE4/eRB2acvoTJJe7Xxje1m+ZRXA=', '소니 최고의 애니메이션', '17617048', 'point_after');\" style=\"color:#8F8F8F\" title=\"새 창\">신고</a>\n",
       " </td>,\n",
       " <td class=\"title\">\n",
       " <a class=\"movie color_b\" href=\"/movie/bi/mi/basic.naver?code=171725\">스파이더맨: 뉴 유니버스</a>\n",
       " <div class=\"list_netizen_score\">\n",
       " <span class=\"st_off\"><span class=\"st_on\" style=\"width:100%\">별점 - 총 10점 중</span></span><em>10</em>\n",
       " </div>\n",
       " <br/>최고다. \n",
       " \t\t\t\n",
       " \t\t\t\n",
       " \t\t\t\n",
       " \t\t\t\t\n",
       " \t\t\t\t\n",
       " \t\t\t\t\n",
       " \t\t\t\t<a class=\"report\" href=\"#\" onclick=\"report('k-bo****', 'nYj4dygUUc0KA/XYktgQEGW2xrV4hidQXodnr5T0A8o=', '최고다.', '17612925', 'point_after');\" style=\"color:#8F8F8F\" title=\"새 창\">신고</a>\n",
       " </td>]"
      ]
     },
     "execution_count": 5,
     "metadata": {},
     "output_type": "execute_result"
    }
   ],
   "source": [
    "url1 = \"https://movie.naver.com/movie/point/af/list.nhn?st=mcode&sword=171725&target=after&page=1\"\n",
    "page = urlopen(url1)\n",
    "soup = BeautifulSoup(page, \"html.parser\")\n",
    "comment_all = soup.find_all('td', class_='title')\n",
    "comment_all"
   ]
  },
  {
   "cell_type": "code",
   "execution_count": 6,
   "id": "094e5605",
   "metadata": {},
   "outputs": [
    {
     "name": "stdout",
     "output_type": "stream",
     "text": [
      "10\n"
     ]
    }
   ],
   "source": [
    "print(len(comment_all))"
   ]
  },
  {
   "cell_type": "code",
   "execution_count": 7,
   "id": "40418357",
   "metadata": {},
   "outputs": [
    {
     "data": {
      "text/plain": [
       "'진짜 화려하고 쭉 몰입해서 본영화 \\n\\t\\t\\t\\n\\t\\t\\t\\n\\t\\t\\t\\n\\t\\t\\t\\t\\n\\t\\t\\t\\t\\n\\t\\t\\t\\t\\n\\t\\t\\t\\t'"
      ]
     },
     "execution_count": 7,
     "metadata": {},
     "output_type": "execute_result"
    }
   ],
   "source": [
    "temp = list(comment_all[5].children)\n",
    "temp[6]"
   ]
  },
  {
   "cell_type": "code",
   "execution_count": 8,
   "id": "b61085ce",
   "metadata": {},
   "outputs": [
    {
     "data": {
      "text/plain": [
       "'나에게 힘을 주는 영화 나도 스파이더맨 마스크를 쓸 수 있다 ㅋㅋ'"
      ]
     },
     "execution_count": 8,
     "metadata": {},
     "output_type": "execute_result"
    }
   ],
   "source": [
    "temp = list(comment_all[1].children)\n",
    "result = temp[6].strip()\n",
    "result"
   ]
  },
  {
   "cell_type": "code",
   "execution_count": 9,
   "id": "2c745896",
   "metadata": {},
   "outputs": [
    {
     "data": {
      "text/plain": [
       "['이걸 왜 지금 봤을까..',\n",
       " '보는 내내 눈이 즐거웠던 교훈 주는 만화영화',\n",
       " '진짜 화려하고 쭉 몰입해서 본영화',\n",
       " '애니메이션이라는 틀을 깨버리는 스탠 리의 자식들',\n",
       " '정말 재밌다는 소문만 듣다가 이제서야 봄. 만화적 연출을 위한 저 프레임 연출은 호불호가 좀 갈린부분 아닐까, 나또한 저 부분이 그렇게 와닿게 만화적이게 보이게 했는지는 모르겠다 그냥 부드럽게 보는게 더 보기 편하지 않았을까, 그 외에 만화적 표현들은 연출적으로 아주 훌륭했다. BGM : 중간 중간 깔리는 음악들은 아주 훌륭했다. 연출과 아주 찰떡궁합. 스토리는 좀 진부했다 아주 무난하고 평범한 히어로물 주인공의 위기와 성장 살짝 개연성이 아쉬운 부분이 있었으나 감안하고 보기엔 마무리 포장까지 완성도가 높았다. 개인적 총평은. 아주 재밌었던 영화라기 보단 아주 잘 만든 영화에 가까웠다.',\n",
       " '소니 최고의 애니메이션',\n",
       " '최고다.',\n",
       " '최고의 스파이더맨 영화, 그냥 믿는거야!',\n",
       " '스파이더맨 영화중 가히 최고',\n",
       " '완벽하다 너무 재밌다 진짜 잘 만든 영화']"
      ]
     },
     "execution_count": 9,
     "metadata": {},
     "output_type": "execute_result"
    }
   ],
   "source": [
    "cnt = 0\n",
    "comments = []\n",
    "for comment in comment_all:\n",
    "    temp= list(comment.children)\n",
    "    if len(temp) < 5:\n",
    "        cnt= cnt + 1\n",
    "        continue\n",
    "    else:\n",
    "        try:\n",
    "            cnt= cnt + 1\n",
    "            result = temp[6].strip()\n",
    "            comments.append(result)\n",
    "        except:\n",
    "            print(\"error cnt count\", cnt)\n",
    "comments"
   ]
  },
  {
   "cell_type": "code",
   "execution_count": 12,
   "id": "7c71122b",
   "metadata": {},
   "outputs": [
    {
     "name": "stdout",
     "output_type": "stream",
     "text": [
      "70\n",
      "['이걸 왜 지금 봤을까..', '보는 내내 눈이 즐거웠던 교훈 주는 만화영화', '진짜 화려하고 쭉 몰입해서 본영화', '애니메이션이라는 틀을 깨버리는 스탠 리의 자식들', '정말 재밌다는 소문만 듣다가 이제서야 봄. 만화적 연출을 위한 저 프레임 연출은 호불호가 좀 갈린부분 아닐까, 나또한 저 부분이 그렇게 와닿게 만화적이게 보이게 했는지는 모르겠다 그냥 부드럽게 보는게 더 보기 편하지 않았을까, 그 외에 만화적 표현들은 연출적으로 아주 훌륭했다. BGM : 중간 중간 깔리는 음악들은 아주 훌륭했다. 연출과 아주 찰떡궁합. 스토리는 좀 진부했다 아주 무난하고 평범한 히어로물 주인공의 위기와 성장 살짝 개연성이 아쉬운 부분이 있었으나 감안하고 보기엔 마무리 포장까지 완성도가 높았다. 개인적 총평은. 아주 재밌었던 영화라기 보단 아주 잘 만든 영화에 가까웠다.', '소니 최고의 애니메이션', '최고다.', '최고의 스파이더맨 영화, 그냥 믿는거야!', '스파이더맨 영화중 가히 최고', '완벽하다 너무 재밌다 진짜 잘 만든 영화', '', '극장에서 봤을때의 감동을 아직도 잊지못함 개인적으로 재개봉했으면 좋겠다', '영상미, 음악, 스토리 뭐하나 빠지는게 없네', '곤니찌와에서 ㅡ ㅡ ... 재밌다가 식었음 ㅠ', '이게 예술이 아니면 뭔가요?', '와 ㄹㅇ 내 인생 영화에 들어갈정도로 재밌음. 특유의 BOOM이라던가 만화같은 연출이랑 팝송같은 음악이 너무 좋았음', '명대사:헤이', '진짜 고퀄리티다....', '스파이더맨 판권을 소니가 가져야 하는 이유', '갠적으로 영화 2번이상 보고싶은거 없었는데 생겼다. 힘든요즘 힘내게 해준영화 왜 이제봤지?', '영화도 재밌는데 연출이 일단 개신선하고 무엇보다 ost가 진짜 죽인다 ㅋㅋㅋㅋ', '영상미 색감 액션 정말 삼박자를 다갖춘 영화에요ㅜㅜㅜ 다채로운 색의 조합이 눈을 즐겁게 만들고 화려한액션은 정말 말할것도 없네요.... 극장에서 못본게 아쉽네요 정말 재밌게 봤습니다 !!', '이게 진짜 현대예술이지', '스파이더맨 작품들 중에 최고.', '스파이더맨 뉴 유니버스.', '영화의 색감이 너무 좋다 눈이 즐거운 영화!', '', '애니메이션 자체로도 훌륭하지만, 전달하려는 메세지와 전달하는 방식도 매우 뛰어나다.', '마블에서 만든 실사판보다 더 괜찮음 스파이더맨 특유의 설정때문에 애니메이션이 더 잘 맞는듯', '존잼 3번이나 봄 ♡♡♡♡', '꼭보셈 어벤져스보다 재밌음', '진짜 잘 만들었음. 영상미가 좋음.', '내가 스파이더맨 좋아하고 좀 안다 하시는분들은 더 재밋게 볼거같아요ㅋㅋㅋ 너무 재밌었음', '생각한거 보대는 재밌다킬링타임용으로는 훌륭함', '전반적으로 좋으나 후반부가 너무 일본스러운 아기자기한 판타지 세계가 나와 고개를 돌리게 된다.', '득특하고 창의적인 완벽한 스파이더맨 영화!', '', '개인적으루 ost ㄹㅇ 미쳤음. 넘 좋당.', '그냥 미쳤음 모든게 새롭다', '애니메이션으로는 볼만 했음. 다만 실사 유니버스와는 별도로 계속 나왔으면 한다.', '스파이더맨으로 더 이상 뽑아 낼게 있나 싶었는데, 깜놀했음ㅎ 진짜 잘 만들었다. 신선해~~!', '풀뿌리 영웅주의에 대한 감각적인 해설.', '경이로운 소문 오프닝 영상보다 자꾸 스파이더맨:뉴유니버스가 떠올라 다시 봤더니역시는 역시!!!', '진짜 그냥 완벽하다 ㅠ ㅅ ㅠ', '지린다...역대 스파이더맨중 가장재밌었다', '스뽜이더맨~ 쓰뽜이더맨~', '요즘 괜찮은영화 못만들고있는것같던데 드디어 걸작하나 만들어준 소니. 내용은 평범하지만 작화가 대단하다', '', '메세지나 영화적 완성도는 물론이고 ost만으로도 일단 반은 먹고들어간다.', '이런 애니매이션은 처음이다. 내용, 색채, 스타일, 음악 그리고 스피디하고 통통 튀는 전개지루할 틈이 없다. 누구나 영웅이 될 수 있는 꿈을 꿀 수 있는 영화.', '', '왓챠에떴길래 봤더니 이거 개꿀잼이네 ㅋㅋㅋ', '애니메이션이 이렇게 스타일리쉬하고 힙할줄이야', '지금 스파이더맨은 아이언맨 사이드킥 꼬봉되어버렸는데 . 이게 진짜 스파이더맨 후계자를 키우는거네 . 너무 멋있다', '진짜 개 조오오오온잼 영상미대박', '그림체가 가장 마음에 들었습니다. 스토리도 좋네요', '최고의 스파이더맨 영화. 이걸 극장에서 볼수있었던건 내 인생의 자랑', '스파이더맨 시리즈 역대 최고의 띵작, 애니라서 실사영화의 한계를 뛰어넘는 연출을 보여준다.', '스토리는 매우 아쉽지만 애니메이션이 상당히 볼만하다', '색다른 제안, 기막힌 완성.', '애니메이션이 상당이 퀄리티 높고 연출. 캐릭터 움직임 등 상당히 공들인 느낌이 남.다만 다른 스파이더맨들의 컨셉 몇몇이 좀 억지스럽고 존재감이 별로 없어 그부분이 아쉽', '', '', '구라안치고 존나게, 졸라, 조지게 재밌다', '', 'ㅠㅠ너무 좋음 감상평 안 남기는데 너무 좋아서 남길수밖에없음 아트북도 삼 ㅠㅠ', '스파이더맨이 의도하지 않은 일로 얻은 능력에 대한 책임을 가져야 하는 건데 그게 얼마나 힘든지 공감이 감', 'OST 매일 듣는중ㅜㅜ', '', '소니애니메이션중 가자앙 완성도높고 영상미좋고Ost좋고..다좋당']\n",
      "70\n"
     ]
    }
   ],
   "source": [
    "comments = [ ]\n",
    "cnt = 0\n",
    "for i in range(1,8):\n",
    "    url = basic_url + str(i)\n",
    "    page = urlopen(url)\n",
    "    soup = BeautifulSoup(page, \"html.parser\")\n",
    "\n",
    "    comment_all = soup.find_all('td', class_='title')\n",
    "    for comment in comment_all:\n",
    "        temp= list(comment.children)\n",
    "        if len(temp) < 5:\n",
    "            cnt= cnt + 1\n",
    "            print(\"len<5 case :\",cnt)\n",
    "            continue\n",
    "        else:\n",
    "            try:\n",
    "                cnt= cnt + 1\n",
    "                result = temp[6].strip()\n",
    "                comments.append(result)\n",
    "            except:\n",
    "                cnt= cnt + 1\n",
    "                print(\"len>=5 case \",cnt)\n",
    "                print(temp)\n",
    "print(len(comments))\n",
    "print(comments)\n",
    "print(cnt)"
   ]
  },
  {
   "cell_type": "code",
   "execution_count": 13,
   "id": "d5bc16f1",
   "metadata": {},
   "outputs": [],
   "source": [
    "import pandas as pd\n",
    "\n",
    "dict_doc = {\"text\" : comments}\n",
    "doc = pd.DataFrame(dict_doc)\n",
    "\n",
    "doc.to_csv(\"스파이더맨리뷰.csv\", index = False)"
   ]
  },
  {
   "cell_type": "code",
   "execution_count": 14,
   "id": "fdd11e50",
   "metadata": {},
   "outputs": [],
   "source": [
    "from wordcloud import WordCloud, STOPWORDS\n",
    "\n",
    "import numpy as np\n",
    "from PIL import Image"
   ]
  },
  {
   "cell_type": "code",
   "execution_count": 15,
   "id": "1807a574",
   "metadata": {},
   "outputs": [],
   "source": [
    "f = open(\"스파이더맨리뷰.csv\", encoding=\"utf-8\")\n",
    "#f = open(\"SpiderMan.txt\", 'r', encoding='utf-8')\n",
    "text = f.read()\n",
    "f.close()"
   ]
  },
  {
   "cell_type": "code",
   "execution_count": 16,
   "id": "ba8a7719",
   "metadata": {},
   "outputs": [],
   "source": [
    "from matplotlib import rc\n",
    "rc('font', family='NanumGothic')"
   ]
  },
  {
   "cell_type": "code",
   "execution_count": 18,
   "id": "7421581d",
   "metadata": {},
   "outputs": [
    {
     "ename": "OSError",
     "evalue": "cannot open resource",
     "output_type": "error",
     "traceback": [
      "\u001b[1;31m---------------------------------------------------------------------------\u001b[0m",
      "\u001b[1;31mOSError\u001b[0m                                   Traceback (most recent call last)",
      "\u001b[1;32m<ipython-input-18-eb5d4ae1a8cc>\u001b[0m in \u001b[0;36m<module>\u001b[1;34m\u001b[0m\n\u001b[0;32m      1\u001b[0m \u001b[0mget_ipython\u001b[0m\u001b[1;33m(\u001b[0m\u001b[1;33m)\u001b[0m\u001b[1;33m.\u001b[0m\u001b[0mrun_line_magic\u001b[0m\u001b[1;33m(\u001b[0m\u001b[1;34m'matplotlib'\u001b[0m\u001b[1;33m,\u001b[0m \u001b[1;34m'inline'\u001b[0m\u001b[1;33m)\u001b[0m\u001b[1;33m\u001b[0m\u001b[1;33m\u001b[0m\u001b[0m\n\u001b[0;32m      2\u001b[0m \u001b[1;32mfrom\u001b[0m \u001b[0mwordcloud\u001b[0m \u001b[1;32mimport\u001b[0m \u001b[0mWordCloud\u001b[0m\u001b[1;33m\u001b[0m\u001b[1;33m\u001b[0m\u001b[0m\n\u001b[1;32m----> 3\u001b[1;33m \u001b[0mwcloud\u001b[0m \u001b[1;33m=\u001b[0m \u001b[0mWordCloud\u001b[0m\u001b[1;33m(\u001b[0m\u001b[1;34m'./data/D2Coding.ttf'\u001b[0m\u001b[1;33m,\u001b[0m \u001b[0mmax_words\u001b[0m\u001b[1;33m=\u001b[0m\u001b[1;36m1000\u001b[0m\u001b[1;33m,\u001b[0m \u001b[0mrelative_scaling\u001b[0m \u001b[1;33m=\u001b[0m \u001b[1;36m0.2\u001b[0m\u001b[1;33m)\u001b[0m\u001b[1;33m.\u001b[0m\u001b[0mgenerate\u001b[0m\u001b[1;33m(\u001b[0m\u001b[0mtext\u001b[0m\u001b[1;33m)\u001b[0m\u001b[1;33m\u001b[0m\u001b[1;33m\u001b[0m\u001b[0m\n\u001b[0m\u001b[0;32m      4\u001b[0m \u001b[1;33m\u001b[0m\u001b[0m\n\u001b[0;32m      5\u001b[0m \u001b[1;32mimport\u001b[0m \u001b[0mmatplotlib\u001b[0m\u001b[1;33m.\u001b[0m\u001b[0mpyplot\u001b[0m \u001b[1;32mas\u001b[0m \u001b[0mplt\u001b[0m\u001b[1;33m\u001b[0m\u001b[1;33m\u001b[0m\u001b[0m\n",
      "\u001b[1;32m~\\anaconda3\\lib\\site-packages\\wordcloud\\wordcloud.py\u001b[0m in \u001b[0;36mgenerate\u001b[1;34m(self, text)\u001b[0m\n\u001b[0;32m    630\u001b[0m         \u001b[0mself\u001b[0m\u001b[1;33m\u001b[0m\u001b[1;33m\u001b[0m\u001b[0m\n\u001b[0;32m    631\u001b[0m         \"\"\"\n\u001b[1;32m--> 632\u001b[1;33m         \u001b[1;32mreturn\u001b[0m \u001b[0mself\u001b[0m\u001b[1;33m.\u001b[0m\u001b[0mgenerate_from_text\u001b[0m\u001b[1;33m(\u001b[0m\u001b[0mtext\u001b[0m\u001b[1;33m)\u001b[0m\u001b[1;33m\u001b[0m\u001b[1;33m\u001b[0m\u001b[0m\n\u001b[0m\u001b[0;32m    633\u001b[0m \u001b[1;33m\u001b[0m\u001b[0m\n\u001b[0;32m    634\u001b[0m     \u001b[1;32mdef\u001b[0m \u001b[0m_check_generated\u001b[0m\u001b[1;33m(\u001b[0m\u001b[0mself\u001b[0m\u001b[1;33m)\u001b[0m\u001b[1;33m:\u001b[0m\u001b[1;33m\u001b[0m\u001b[1;33m\u001b[0m\u001b[0m\n",
      "\u001b[1;32m~\\anaconda3\\lib\\site-packages\\wordcloud\\wordcloud.py\u001b[0m in \u001b[0;36mgenerate_from_text\u001b[1;34m(self, text)\u001b[0m\n\u001b[0;32m    612\u001b[0m         \"\"\"\n\u001b[0;32m    613\u001b[0m         \u001b[0mwords\u001b[0m \u001b[1;33m=\u001b[0m \u001b[0mself\u001b[0m\u001b[1;33m.\u001b[0m\u001b[0mprocess_text\u001b[0m\u001b[1;33m(\u001b[0m\u001b[0mtext\u001b[0m\u001b[1;33m)\u001b[0m\u001b[1;33m\u001b[0m\u001b[1;33m\u001b[0m\u001b[0m\n\u001b[1;32m--> 614\u001b[1;33m         \u001b[0mself\u001b[0m\u001b[1;33m.\u001b[0m\u001b[0mgenerate_from_frequencies\u001b[0m\u001b[1;33m(\u001b[0m\u001b[0mwords\u001b[0m\u001b[1;33m)\u001b[0m\u001b[1;33m\u001b[0m\u001b[1;33m\u001b[0m\u001b[0m\n\u001b[0m\u001b[0;32m    615\u001b[0m         \u001b[1;32mreturn\u001b[0m \u001b[0mself\u001b[0m\u001b[1;33m\u001b[0m\u001b[1;33m\u001b[0m\u001b[0m\n\u001b[0;32m    616\u001b[0m \u001b[1;33m\u001b[0m\u001b[0m\n",
      "\u001b[1;32m~\\anaconda3\\lib\\site-packages\\wordcloud\\wordcloud.py\u001b[0m in \u001b[0;36mgenerate_from_frequencies\u001b[1;34m(self, frequencies, max_font_size)\u001b[0m\n\u001b[0;32m    444\u001b[0m                 \u001b[0mfont_size\u001b[0m \u001b[1;33m=\u001b[0m \u001b[0mself\u001b[0m\u001b[1;33m.\u001b[0m\u001b[0mheight\u001b[0m\u001b[1;33m\u001b[0m\u001b[1;33m\u001b[0m\u001b[0m\n\u001b[0;32m    445\u001b[0m             \u001b[1;32melse\u001b[0m\u001b[1;33m:\u001b[0m\u001b[1;33m\u001b[0m\u001b[1;33m\u001b[0m\u001b[0m\n\u001b[1;32m--> 446\u001b[1;33m                 self.generate_from_frequencies(dict(frequencies[:2]),\n\u001b[0m\u001b[0;32m    447\u001b[0m                                                max_font_size=self.height)\n\u001b[0;32m    448\u001b[0m                 \u001b[1;31m# find font sizes\u001b[0m\u001b[1;33m\u001b[0m\u001b[1;33m\u001b[0m\u001b[1;33m\u001b[0m\u001b[0m\n",
      "\u001b[1;32m~\\anaconda3\\lib\\site-packages\\wordcloud\\wordcloud.py\u001b[0m in \u001b[0;36mgenerate_from_frequencies\u001b[1;34m(self, frequencies, max_font_size)\u001b[0m\n\u001b[0;32m    494\u001b[0m             \u001b[1;32mwhile\u001b[0m \u001b[1;32mTrue\u001b[0m\u001b[1;33m:\u001b[0m\u001b[1;33m\u001b[0m\u001b[1;33m\u001b[0m\u001b[0m\n\u001b[0;32m    495\u001b[0m                 \u001b[1;31m# try to find a position\u001b[0m\u001b[1;33m\u001b[0m\u001b[1;33m\u001b[0m\u001b[1;33m\u001b[0m\u001b[0m\n\u001b[1;32m--> 496\u001b[1;33m                 \u001b[0mfont\u001b[0m \u001b[1;33m=\u001b[0m \u001b[0mImageFont\u001b[0m\u001b[1;33m.\u001b[0m\u001b[0mtruetype\u001b[0m\u001b[1;33m(\u001b[0m\u001b[0mself\u001b[0m\u001b[1;33m.\u001b[0m\u001b[0mfont_path\u001b[0m\u001b[1;33m,\u001b[0m \u001b[0mfont_size\u001b[0m\u001b[1;33m)\u001b[0m\u001b[1;33m\u001b[0m\u001b[1;33m\u001b[0m\u001b[0m\n\u001b[0m\u001b[0;32m    497\u001b[0m                 \u001b[1;31m# transpose font optionally\u001b[0m\u001b[1;33m\u001b[0m\u001b[1;33m\u001b[0m\u001b[1;33m\u001b[0m\u001b[0m\n\u001b[0;32m    498\u001b[0m                 transposed_font = ImageFont.TransposedFont(\n",
      "\u001b[1;32m~\\anaconda3\\lib\\site-packages\\PIL\\ImageFont.py\u001b[0m in \u001b[0;36mtruetype\u001b[1;34m(font, size, index, encoding, layout_engine)\u001b[0m\n\u001b[0;32m    851\u001b[0m \u001b[1;33m\u001b[0m\u001b[0m\n\u001b[0;32m    852\u001b[0m     \u001b[1;32mtry\u001b[0m\u001b[1;33m:\u001b[0m\u001b[1;33m\u001b[0m\u001b[1;33m\u001b[0m\u001b[0m\n\u001b[1;32m--> 853\u001b[1;33m         \u001b[1;32mreturn\u001b[0m \u001b[0mfreetype\u001b[0m\u001b[1;33m(\u001b[0m\u001b[0mfont\u001b[0m\u001b[1;33m)\u001b[0m\u001b[1;33m\u001b[0m\u001b[1;33m\u001b[0m\u001b[0m\n\u001b[0m\u001b[0;32m    854\u001b[0m     \u001b[1;32mexcept\u001b[0m \u001b[0mOSError\u001b[0m\u001b[1;33m:\u001b[0m\u001b[1;33m\u001b[0m\u001b[1;33m\u001b[0m\u001b[0m\n\u001b[0;32m    855\u001b[0m         \u001b[1;32mif\u001b[0m \u001b[1;32mnot\u001b[0m \u001b[0misPath\u001b[0m\u001b[1;33m(\u001b[0m\u001b[0mfont\u001b[0m\u001b[1;33m)\u001b[0m\u001b[1;33m:\u001b[0m\u001b[1;33m\u001b[0m\u001b[1;33m\u001b[0m\u001b[0m\n",
      "\u001b[1;32m~\\anaconda3\\lib\\site-packages\\PIL\\ImageFont.py\u001b[0m in \u001b[0;36mfreetype\u001b[1;34m(font)\u001b[0m\n\u001b[0;32m    848\u001b[0m \u001b[1;33m\u001b[0m\u001b[0m\n\u001b[0;32m    849\u001b[0m     \u001b[1;32mdef\u001b[0m \u001b[0mfreetype\u001b[0m\u001b[1;33m(\u001b[0m\u001b[0mfont\u001b[0m\u001b[1;33m)\u001b[0m\u001b[1;33m:\u001b[0m\u001b[1;33m\u001b[0m\u001b[1;33m\u001b[0m\u001b[0m\n\u001b[1;32m--> 850\u001b[1;33m         \u001b[1;32mreturn\u001b[0m \u001b[0mFreeTypeFont\u001b[0m\u001b[1;33m(\u001b[0m\u001b[0mfont\u001b[0m\u001b[1;33m,\u001b[0m \u001b[0msize\u001b[0m\u001b[1;33m,\u001b[0m \u001b[0mindex\u001b[0m\u001b[1;33m,\u001b[0m \u001b[0mencoding\u001b[0m\u001b[1;33m,\u001b[0m \u001b[0mlayout_engine\u001b[0m\u001b[1;33m)\u001b[0m\u001b[1;33m\u001b[0m\u001b[1;33m\u001b[0m\u001b[0m\n\u001b[0m\u001b[0;32m    851\u001b[0m \u001b[1;33m\u001b[0m\u001b[0m\n\u001b[0;32m    852\u001b[0m     \u001b[1;32mtry\u001b[0m\u001b[1;33m:\u001b[0m\u001b[1;33m\u001b[0m\u001b[1;33m\u001b[0m\u001b[0m\n",
      "\u001b[1;32m~\\anaconda3\\lib\\site-packages\\PIL\\ImageFont.py\u001b[0m in \u001b[0;36m__init__\u001b[1;34m(self, font, size, index, encoding, layout_engine)\u001b[0m\n\u001b[0;32m    207\u001b[0m                         \u001b[0mload_from_bytes\u001b[0m\u001b[1;33m(\u001b[0m\u001b[0mf\u001b[0m\u001b[1;33m)\u001b[0m\u001b[1;33m\u001b[0m\u001b[1;33m\u001b[0m\u001b[0m\n\u001b[0;32m    208\u001b[0m                     \u001b[1;32mreturn\u001b[0m\u001b[1;33m\u001b[0m\u001b[1;33m\u001b[0m\u001b[0m\n\u001b[1;32m--> 209\u001b[1;33m             self.font = core.getfont(\n\u001b[0m\u001b[0;32m    210\u001b[0m                 \u001b[0mfont\u001b[0m\u001b[1;33m,\u001b[0m \u001b[0msize\u001b[0m\u001b[1;33m,\u001b[0m \u001b[0mindex\u001b[0m\u001b[1;33m,\u001b[0m \u001b[0mencoding\u001b[0m\u001b[1;33m,\u001b[0m \u001b[0mlayout_engine\u001b[0m\u001b[1;33m=\u001b[0m\u001b[0mlayout_engine\u001b[0m\u001b[1;33m\u001b[0m\u001b[1;33m\u001b[0m\u001b[0m\n\u001b[0;32m    211\u001b[0m             )\n",
      "\u001b[1;31mOSError\u001b[0m: cannot open resource"
     ]
    }
   ],
   "source": [
    "%matplotlib inline\n",
    "from wordcloud import WordCloud\n",
    "wcloud = WordCloud('./data/D2Coding.ttf', max_words=1000, relative_scaling = 0.2).generate(text)\n",
    "\n",
    "import matplotlib.pyplot as plt\n",
    "plt.figure(figsize=(12,12))\n",
    "plt.imshow(wcloud, interpolation='bilinear')\n",
    "plt.axis(\"off\")"
   ]
  },
  {
   "cell_type": "code",
   "execution_count": null,
   "id": "15a4ffcb",
   "metadata": {},
   "outputs": [],
   "source": []
  },
  {
   "cell_type": "code",
   "execution_count": null,
   "id": "cba652cf",
   "metadata": {},
   "outputs": [],
   "source": []
  }
 ],
 "metadata": {
  "kernelspec": {
   "display_name": "Python 3",
   "language": "python",
   "name": "python3"
  },
  "language_info": {
   "codemirror_mode": {
    "name": "ipython",
    "version": 3
   },
   "file_extension": ".py",
   "mimetype": "text/x-python",
   "name": "python",
   "nbconvert_exporter": "python",
   "pygments_lexer": "ipython3",
   "version": "3.8.8"
  }
 },
 "nbformat": 4,
 "nbformat_minor": 5
}
